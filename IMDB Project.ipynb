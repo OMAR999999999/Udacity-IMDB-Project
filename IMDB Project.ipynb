{
 "cells": [
  {
   "cell_type": "markdown",
   "id": "a587b430-58e3-4fcb-b963-35b6c3247ce0",
   "metadata": {
    "tags": []
   },
   "source": [
    "# Project: Investigate a Dataset - [IMDB Movies]\n",
    "\n",
    "## Table of Contents\n",
    "<ul>\n",
    "<li><a href=\"#intro\">Introduction</a></li>\n",
    "<li><a href=\"#wrangling\">Data Wrangling</a></li>\n",
    "<li><a href=\"#eda\">Exploratory Data Analysis</a></li>\n",
    "<li><a href=\"#conclusions\">Conclusions</a></li>\n",
    "</ul>"
   ]
  },
  {
   "cell_type": "markdown",
   "id": "cb26b272-ad53-4d77-975c-56483f1bf364",
   "metadata": {
    "tags": []
   },
   "source": [
    "<a id='intro'></a>\n",
    "## Introduction\n",
    "\n",
    "### Dataset Description \n",
    "\n",
    "> This data set contains information about 10,000 movies collected from The Movie Database (IMDb), including user ratings, budget, revenue, popularity, movie duration, genres and release-year. \n",
    "\n",
    "\n",
    "### Questions To Answer\n",
    "\n",
    "><a href=\"#one\">what</a> **is the most frequently used genres**\n",
    "       \n",
    "><a href=\"#two\">what</a> **genres that get highest revenue?**\n",
    "        \n",
    "><a href=\"#three\">what</a> **is the rate of movies production since 1966 to 2015?**\n",
    "        \n",
    "><a href=\"#four\">what</a> **is the average budget to produce a movie?**\n",
    "\n",
    "><a href=\"#five\">what</a> **is the most preferable movie duration? (according to votes and popularity)**\n",
    "\n",
    "><a href=\"#six\">Are</a> **genres with highest revenue have highest popularity ?**"
   ]
  },
  {
   "cell_type": "code",
   "execution_count": 1,
   "id": "e7fa21da-056a-4978-b816-79c24f9091d9",
   "metadata": {},
   "outputs": [],
   "source": [
    "# importing the necessary libraries\n",
    "import pandas as pd\n",
    "import numpy as np\n",
    "import csv\n",
    "\n",
    "import matplotlib.pyplot as plt\n",
    "%matplotlib inline"
   ]
  },
  {
   "cell_type": "markdown",
   "id": "5e5b0985-68d5-4985-a518-4756cc353336",
   "metadata": {
    "tags": []
   },
   "source": [
    "<a id=\"wrangling\"></a>\n",
    "##  Data Wrangling"
   ]
  },
  {
   "cell_type": "markdown",
   "id": "cd497307-f3b8-4a3e-9832-d75ad8d0cc6c",
   "metadata": {},
   "source": [
    "### first we need to look at the file we are going to work on"
   ]
  },
  {
   "cell_type": "code",
   "execution_count": 2,
   "id": "49feba9c-8516-4f97-9891-a5f46c1c57ff",
   "metadata": {},
   "outputs": [
    {
     "data": {
      "text/html": [
       "<div>\n",
       "<style scoped>\n",
       "    .dataframe tbody tr th:only-of-type {\n",
       "        vertical-align: middle;\n",
       "    }\n",
       "\n",
       "    .dataframe tbody tr th {\n",
       "        vertical-align: top;\n",
       "    }\n",
       "\n",
       "    .dataframe thead th {\n",
       "        text-align: right;\n",
       "    }\n",
       "</style>\n",
       "<table border=\"1\" class=\"dataframe\">\n",
       "  <thead>\n",
       "    <tr style=\"text-align: right;\">\n",
       "      <th></th>\n",
       "      <th>id</th>\n",
       "      <th>imdb_id</th>\n",
       "      <th>popularity</th>\n",
       "      <th>budget</th>\n",
       "      <th>revenue</th>\n",
       "      <th>original_title</th>\n",
       "      <th>cast</th>\n",
       "      <th>homepage</th>\n",
       "      <th>director</th>\n",
       "      <th>tagline</th>\n",
       "      <th>...</th>\n",
       "      <th>overview</th>\n",
       "      <th>runtime</th>\n",
       "      <th>genres</th>\n",
       "      <th>production_companies</th>\n",
       "      <th>release_date</th>\n",
       "      <th>vote_count</th>\n",
       "      <th>vote_average</th>\n",
       "      <th>release_year</th>\n",
       "      <th>budget_adj</th>\n",
       "      <th>revenue_adj</th>\n",
       "    </tr>\n",
       "  </thead>\n",
       "  <tbody>\n",
       "    <tr>\n",
       "      <th>0</th>\n",
       "      <td>135397</td>\n",
       "      <td>tt0369610</td>\n",
       "      <td>32.985763</td>\n",
       "      <td>150000000</td>\n",
       "      <td>1513528810</td>\n",
       "      <td>Jurassic World</td>\n",
       "      <td>Chris Pratt|Bryce Dallas Howard|Irrfan Khan|Vi...</td>\n",
       "      <td>http://www.jurassicworld.com/</td>\n",
       "      <td>Colin Trevorrow</td>\n",
       "      <td>The park is open.</td>\n",
       "      <td>...</td>\n",
       "      <td>Twenty-two years after the events of Jurassic ...</td>\n",
       "      <td>124</td>\n",
       "      <td>Action|Adventure|Science Fiction|Thriller</td>\n",
       "      <td>Universal Studios|Amblin Entertainment|Legenda...</td>\n",
       "      <td>6/9/15</td>\n",
       "      <td>5562</td>\n",
       "      <td>6.5</td>\n",
       "      <td>2015</td>\n",
       "      <td>1.379999e+08</td>\n",
       "      <td>1.392446e+09</td>\n",
       "    </tr>\n",
       "    <tr>\n",
       "      <th>1</th>\n",
       "      <td>76341</td>\n",
       "      <td>tt1392190</td>\n",
       "      <td>28.419936</td>\n",
       "      <td>150000000</td>\n",
       "      <td>378436354</td>\n",
       "      <td>Mad Max: Fury Road</td>\n",
       "      <td>Tom Hardy|Charlize Theron|Hugh Keays-Byrne|Nic...</td>\n",
       "      <td>http://www.madmaxmovie.com/</td>\n",
       "      <td>George Miller</td>\n",
       "      <td>What a Lovely Day.</td>\n",
       "      <td>...</td>\n",
       "      <td>An apocalyptic story set in the furthest reach...</td>\n",
       "      <td>120</td>\n",
       "      <td>Action|Adventure|Science Fiction|Thriller</td>\n",
       "      <td>Village Roadshow Pictures|Kennedy Miller Produ...</td>\n",
       "      <td>5/13/15</td>\n",
       "      <td>6185</td>\n",
       "      <td>7.1</td>\n",
       "      <td>2015</td>\n",
       "      <td>1.379999e+08</td>\n",
       "      <td>3.481613e+08</td>\n",
       "    </tr>\n",
       "    <tr>\n",
       "      <th>2</th>\n",
       "      <td>262500</td>\n",
       "      <td>tt2908446</td>\n",
       "      <td>13.112507</td>\n",
       "      <td>110000000</td>\n",
       "      <td>295238201</td>\n",
       "      <td>Insurgent</td>\n",
       "      <td>Shailene Woodley|Theo James|Kate Winslet|Ansel...</td>\n",
       "      <td>http://www.thedivergentseries.movie/#insurgent</td>\n",
       "      <td>Robert Schwentke</td>\n",
       "      <td>One Choice Can Destroy You</td>\n",
       "      <td>...</td>\n",
       "      <td>Beatrice Prior must confront her inner demons ...</td>\n",
       "      <td>119</td>\n",
       "      <td>Adventure|Science Fiction|Thriller</td>\n",
       "      <td>Summit Entertainment|Mandeville Films|Red Wago...</td>\n",
       "      <td>3/18/15</td>\n",
       "      <td>2480</td>\n",
       "      <td>6.3</td>\n",
       "      <td>2015</td>\n",
       "      <td>1.012000e+08</td>\n",
       "      <td>2.716190e+08</td>\n",
       "    </tr>\n",
       "  </tbody>\n",
       "</table>\n",
       "<p>3 rows × 21 columns</p>\n",
       "</div>"
      ],
      "text/plain": [
       "       id    imdb_id  popularity     budget     revenue      original_title  \\\n",
       "0  135397  tt0369610   32.985763  150000000  1513528810      Jurassic World   \n",
       "1   76341  tt1392190   28.419936  150000000   378436354  Mad Max: Fury Road   \n",
       "2  262500  tt2908446   13.112507  110000000   295238201           Insurgent   \n",
       "\n",
       "                                                cast  \\\n",
       "0  Chris Pratt|Bryce Dallas Howard|Irrfan Khan|Vi...   \n",
       "1  Tom Hardy|Charlize Theron|Hugh Keays-Byrne|Nic...   \n",
       "2  Shailene Woodley|Theo James|Kate Winslet|Ansel...   \n",
       "\n",
       "                                         homepage          director  \\\n",
       "0                   http://www.jurassicworld.com/   Colin Trevorrow   \n",
       "1                     http://www.madmaxmovie.com/     George Miller   \n",
       "2  http://www.thedivergentseries.movie/#insurgent  Robert Schwentke   \n",
       "\n",
       "                      tagline  ...  \\\n",
       "0           The park is open.  ...   \n",
       "1          What a Lovely Day.  ...   \n",
       "2  One Choice Can Destroy You  ...   \n",
       "\n",
       "                                            overview runtime  \\\n",
       "0  Twenty-two years after the events of Jurassic ...     124   \n",
       "1  An apocalyptic story set in the furthest reach...     120   \n",
       "2  Beatrice Prior must confront her inner demons ...     119   \n",
       "\n",
       "                                      genres  \\\n",
       "0  Action|Adventure|Science Fiction|Thriller   \n",
       "1  Action|Adventure|Science Fiction|Thriller   \n",
       "2         Adventure|Science Fiction|Thriller   \n",
       "\n",
       "                                production_companies release_date vote_count  \\\n",
       "0  Universal Studios|Amblin Entertainment|Legenda...       6/9/15       5562   \n",
       "1  Village Roadshow Pictures|Kennedy Miller Produ...      5/13/15       6185   \n",
       "2  Summit Entertainment|Mandeville Films|Red Wago...      3/18/15       2480   \n",
       "\n",
       "   vote_average  release_year    budget_adj   revenue_adj  \n",
       "0           6.5          2015  1.379999e+08  1.392446e+09  \n",
       "1           7.1          2015  1.379999e+08  3.481613e+08  \n",
       "2           6.3          2015  1.012000e+08  2.716190e+08  \n",
       "\n",
       "[3 rows x 21 columns]"
      ]
     },
     "execution_count": 2,
     "metadata": {},
     "output_type": "execute_result"
    }
   ],
   "source": [
    "# reading the file and explore it\n",
    "file = pd.read_csv('tmdb-movies.csv')\n",
    "file.head(3)"
   ]
  },
  {
   "cell_type": "markdown",
   "id": "1f8d4049-0018-4faa-a80f-0fceb0b46565",
   "metadata": {},
   "source": [
    "### let's delete useless columns to make it easier"
   ]
  },
  {
   "cell_type": "code",
   "execution_count": 3,
   "id": "0a0aac84-1ca5-435e-9d0f-9019198fba48",
   "metadata": {},
   "outputs": [
    {
     "data": {
      "text/html": [
       "<div>\n",
       "<style scoped>\n",
       "    .dataframe tbody tr th:only-of-type {\n",
       "        vertical-align: middle;\n",
       "    }\n",
       "\n",
       "    .dataframe tbody tr th {\n",
       "        vertical-align: top;\n",
       "    }\n",
       "\n",
       "    .dataframe thead th {\n",
       "        text-align: right;\n",
       "    }\n",
       "</style>\n",
       "<table border=\"1\" class=\"dataframe\">\n",
       "  <thead>\n",
       "    <tr style=\"text-align: right;\">\n",
       "      <th></th>\n",
       "      <th>popularity</th>\n",
       "      <th>budget</th>\n",
       "      <th>revenue</th>\n",
       "      <th>original_title</th>\n",
       "      <th>runtime</th>\n",
       "      <th>genres</th>\n",
       "      <th>vote_count</th>\n",
       "      <th>vote_average</th>\n",
       "      <th>release_year</th>\n",
       "    </tr>\n",
       "  </thead>\n",
       "  <tbody>\n",
       "    <tr>\n",
       "      <th>0</th>\n",
       "      <td>32.985763</td>\n",
       "      <td>150000000</td>\n",
       "      <td>1513528810</td>\n",
       "      <td>Jurassic World</td>\n",
       "      <td>124</td>\n",
       "      <td>Action|Adventure|Science Fiction|Thriller</td>\n",
       "      <td>5562</td>\n",
       "      <td>6.5</td>\n",
       "      <td>2015</td>\n",
       "    </tr>\n",
       "    <tr>\n",
       "      <th>1</th>\n",
       "      <td>28.419936</td>\n",
       "      <td>150000000</td>\n",
       "      <td>378436354</td>\n",
       "      <td>Mad Max: Fury Road</td>\n",
       "      <td>120</td>\n",
       "      <td>Action|Adventure|Science Fiction|Thriller</td>\n",
       "      <td>6185</td>\n",
       "      <td>7.1</td>\n",
       "      <td>2015</td>\n",
       "    </tr>\n",
       "    <tr>\n",
       "      <th>2</th>\n",
       "      <td>13.112507</td>\n",
       "      <td>110000000</td>\n",
       "      <td>295238201</td>\n",
       "      <td>Insurgent</td>\n",
       "      <td>119</td>\n",
       "      <td>Adventure|Science Fiction|Thriller</td>\n",
       "      <td>2480</td>\n",
       "      <td>6.3</td>\n",
       "      <td>2015</td>\n",
       "    </tr>\n",
       "    <tr>\n",
       "      <th>3</th>\n",
       "      <td>11.173104</td>\n",
       "      <td>200000000</td>\n",
       "      <td>2068178225</td>\n",
       "      <td>Star Wars: The Force Awakens</td>\n",
       "      <td>136</td>\n",
       "      <td>Action|Adventure|Science Fiction|Fantasy</td>\n",
       "      <td>5292</td>\n",
       "      <td>7.5</td>\n",
       "      <td>2015</td>\n",
       "    </tr>\n",
       "    <tr>\n",
       "      <th>4</th>\n",
       "      <td>9.335014</td>\n",
       "      <td>190000000</td>\n",
       "      <td>1506249360</td>\n",
       "      <td>Furious 7</td>\n",
       "      <td>137</td>\n",
       "      <td>Action|Crime|Thriller</td>\n",
       "      <td>2947</td>\n",
       "      <td>7.3</td>\n",
       "      <td>2015</td>\n",
       "    </tr>\n",
       "  </tbody>\n",
       "</table>\n",
       "</div>"
      ],
      "text/plain": [
       "   popularity     budget     revenue                original_title  runtime  \\\n",
       "0   32.985763  150000000  1513528810                Jurassic World      124   \n",
       "1   28.419936  150000000   378436354            Mad Max: Fury Road      120   \n",
       "2   13.112507  110000000   295238201                     Insurgent      119   \n",
       "3   11.173104  200000000  2068178225  Star Wars: The Force Awakens      136   \n",
       "4    9.335014  190000000  1506249360                     Furious 7      137   \n",
       "\n",
       "                                      genres  vote_count  vote_average  \\\n",
       "0  Action|Adventure|Science Fiction|Thriller        5562           6.5   \n",
       "1  Action|Adventure|Science Fiction|Thriller        6185           7.1   \n",
       "2         Adventure|Science Fiction|Thriller        2480           6.3   \n",
       "3   Action|Adventure|Science Fiction|Fantasy        5292           7.5   \n",
       "4                      Action|Crime|Thriller        2947           7.3   \n",
       "\n",
       "   release_year  \n",
       "0          2015  \n",
       "1          2015  \n",
       "2          2015  \n",
       "3          2015  \n",
       "4          2015  "
      ]
     },
     "execution_count": 3,
     "metadata": {},
     "output_type": "execute_result"
    }
   ],
   "source": [
    "# deleting useless columns\n",
    "df = file.drop(['id', 'imdb_id', 'cast', 'homepage', 'tagline', 'director', 'overview', 'keywords', 'production_companies', 'release_date', 'budget_adj', 'revenue_adj'], axis=1)\n",
    "df.head()"
   ]
  },
  {
   "cell_type": "markdown",
   "id": "4b89000d-98d6-414b-98bd-d6f2905edec1",
   "metadata": {},
   "source": [
    "### showing the type of values and the non-values  and short descriprtion of the data"
   ]
  },
  {
   "cell_type": "code",
   "execution_count": 4,
   "id": "8559a16b-e1e7-4dd5-8845-ebf0a18a71b6",
   "metadata": {},
   "outputs": [
    {
     "name": "stdout",
     "output_type": "stream",
     "text": [
      "<class 'pandas.core.frame.DataFrame'>\n",
      "RangeIndex: 10866 entries, 0 to 10865\n",
      "Data columns (total 9 columns):\n",
      " #   Column          Non-Null Count  Dtype  \n",
      "---  ------          --------------  -----  \n",
      " 0   popularity      10866 non-null  float64\n",
      " 1   budget          10866 non-null  int64  \n",
      " 2   revenue         10866 non-null  int64  \n",
      " 3   original_title  10866 non-null  object \n",
      " 4   runtime         10866 non-null  int64  \n",
      " 5   genres          10843 non-null  object \n",
      " 6   vote_count      10866 non-null  int64  \n",
      " 7   vote_average    10866 non-null  float64\n",
      " 8   release_year    10866 non-null  int64  \n",
      "dtypes: float64(2), int64(5), object(2)\n",
      "memory usage: 764.1+ KB\n"
     ]
    }
   ],
   "source": [
    "# getting informaion about values and the non-values\n",
    "df.info()"
   ]
  },
  {
   "cell_type": "code",
   "execution_count": 5,
   "id": "4690c214-f945-4982-be92-a943ee31b69a",
   "metadata": {},
   "outputs": [
    {
     "data": {
      "text/html": [
       "<div>\n",
       "<style scoped>\n",
       "    .dataframe tbody tr th:only-of-type {\n",
       "        vertical-align: middle;\n",
       "    }\n",
       "\n",
       "    .dataframe tbody tr th {\n",
       "        vertical-align: top;\n",
       "    }\n",
       "\n",
       "    .dataframe thead th {\n",
       "        text-align: right;\n",
       "    }\n",
       "</style>\n",
       "<table border=\"1\" class=\"dataframe\">\n",
       "  <thead>\n",
       "    <tr style=\"text-align: right;\">\n",
       "      <th></th>\n",
       "      <th>popularity</th>\n",
       "      <th>budget</th>\n",
       "      <th>revenue</th>\n",
       "      <th>runtime</th>\n",
       "      <th>vote_count</th>\n",
       "      <th>vote_average</th>\n",
       "      <th>release_year</th>\n",
       "    </tr>\n",
       "  </thead>\n",
       "  <tbody>\n",
       "    <tr>\n",
       "      <th>count</th>\n",
       "      <td>10866.000000</td>\n",
       "      <td>1.086600e+04</td>\n",
       "      <td>1.086600e+04</td>\n",
       "      <td>10866.000000</td>\n",
       "      <td>10866.000000</td>\n",
       "      <td>10866.000000</td>\n",
       "      <td>10866.000000</td>\n",
       "    </tr>\n",
       "    <tr>\n",
       "      <th>mean</th>\n",
       "      <td>0.646441</td>\n",
       "      <td>1.462570e+07</td>\n",
       "      <td>3.982332e+07</td>\n",
       "      <td>102.070863</td>\n",
       "      <td>217.389748</td>\n",
       "      <td>5.974922</td>\n",
       "      <td>2001.322658</td>\n",
       "    </tr>\n",
       "    <tr>\n",
       "      <th>std</th>\n",
       "      <td>1.000185</td>\n",
       "      <td>3.091321e+07</td>\n",
       "      <td>1.170035e+08</td>\n",
       "      <td>31.381405</td>\n",
       "      <td>575.619058</td>\n",
       "      <td>0.935142</td>\n",
       "      <td>12.812941</td>\n",
       "    </tr>\n",
       "    <tr>\n",
       "      <th>min</th>\n",
       "      <td>0.000065</td>\n",
       "      <td>0.000000e+00</td>\n",
       "      <td>0.000000e+00</td>\n",
       "      <td>0.000000</td>\n",
       "      <td>10.000000</td>\n",
       "      <td>1.500000</td>\n",
       "      <td>1960.000000</td>\n",
       "    </tr>\n",
       "    <tr>\n",
       "      <th>25%</th>\n",
       "      <td>0.207583</td>\n",
       "      <td>0.000000e+00</td>\n",
       "      <td>0.000000e+00</td>\n",
       "      <td>90.000000</td>\n",
       "      <td>17.000000</td>\n",
       "      <td>5.400000</td>\n",
       "      <td>1995.000000</td>\n",
       "    </tr>\n",
       "    <tr>\n",
       "      <th>50%</th>\n",
       "      <td>0.383856</td>\n",
       "      <td>0.000000e+00</td>\n",
       "      <td>0.000000e+00</td>\n",
       "      <td>99.000000</td>\n",
       "      <td>38.000000</td>\n",
       "      <td>6.000000</td>\n",
       "      <td>2006.000000</td>\n",
       "    </tr>\n",
       "    <tr>\n",
       "      <th>75%</th>\n",
       "      <td>0.713817</td>\n",
       "      <td>1.500000e+07</td>\n",
       "      <td>2.400000e+07</td>\n",
       "      <td>111.000000</td>\n",
       "      <td>145.750000</td>\n",
       "      <td>6.600000</td>\n",
       "      <td>2011.000000</td>\n",
       "    </tr>\n",
       "    <tr>\n",
       "      <th>max</th>\n",
       "      <td>32.985763</td>\n",
       "      <td>4.250000e+08</td>\n",
       "      <td>2.781506e+09</td>\n",
       "      <td>900.000000</td>\n",
       "      <td>9767.000000</td>\n",
       "      <td>9.200000</td>\n",
       "      <td>2015.000000</td>\n",
       "    </tr>\n",
       "  </tbody>\n",
       "</table>\n",
       "</div>"
      ],
      "text/plain": [
       "         popularity        budget       revenue       runtime    vote_count  \\\n",
       "count  10866.000000  1.086600e+04  1.086600e+04  10866.000000  10866.000000   \n",
       "mean       0.646441  1.462570e+07  3.982332e+07    102.070863    217.389748   \n",
       "std        1.000185  3.091321e+07  1.170035e+08     31.381405    575.619058   \n",
       "min        0.000065  0.000000e+00  0.000000e+00      0.000000     10.000000   \n",
       "25%        0.207583  0.000000e+00  0.000000e+00     90.000000     17.000000   \n",
       "50%        0.383856  0.000000e+00  0.000000e+00     99.000000     38.000000   \n",
       "75%        0.713817  1.500000e+07  2.400000e+07    111.000000    145.750000   \n",
       "max       32.985763  4.250000e+08  2.781506e+09    900.000000   9767.000000   \n",
       "\n",
       "       vote_average  release_year  \n",
       "count  10866.000000  10866.000000  \n",
       "mean       5.974922   2001.322658  \n",
       "std        0.935142     12.812941  \n",
       "min        1.500000   1960.000000  \n",
       "25%        5.400000   1995.000000  \n",
       "50%        6.000000   2006.000000  \n",
       "75%        6.600000   2011.000000  \n",
       "max        9.200000   2015.000000  "
      ]
     },
     "execution_count": 5,
     "metadata": {},
     "output_type": "execute_result"
    }
   ],
   "source": [
    "# showing a short descriprtion of the data\n",
    "df.describe()"
   ]
  },
  {
   "cell_type": "code",
   "execution_count": 6,
   "id": "68682f33-fab2-414a-be1f-4f127a26455f",
   "metadata": {},
   "outputs": [
    {
     "data": {
      "image/png": "[encoded data removed]",
      "text/plain": [
       "<Figure size 576x576 with 9 Axes>"
      ]
     },
     "metadata": {
      "needs_background": "light"
     },
     "output_type": "display_data"
    }
   ],
   "source": [
    "# the distribution of the values for each column\n",
    "df.hist(figsize = (8, 8));"
   ]
  },
  {
   "cell_type": "markdown",
   "id": "9af90ed1-6e44-4d7d-8835-cc38cd184d20",
   "metadata": {},
   "source": [
    "### Making a new dataframe that can deal with genres easily through having them seperated"
   ]
  },
  {
   "cell_type": "code",
   "execution_count": 7,
   "id": "19d60a32-0ea5-42fd-999a-a95ef8c9c1f7",
   "metadata": {},
   "outputs": [
    {
     "data": {
      "text/html": [
       "<div>\n",
       "<style scoped>\n",
       "    .dataframe tbody tr th:only-of-type {\n",
       "        vertical-align: middle;\n",
       "    }\n",
       "\n",
       "    .dataframe tbody tr th {\n",
       "        vertical-align: top;\n",
       "    }\n",
       "\n",
       "    .dataframe thead th {\n",
       "        text-align: right;\n",
       "    }\n",
       "</style>\n",
       "<table border=\"1\" class=\"dataframe\">\n",
       "  <thead>\n",
       "    <tr style=\"text-align: right;\">\n",
       "      <th></th>\n",
       "      <th>popularity</th>\n",
       "      <th>budget</th>\n",
       "      <th>revenue</th>\n",
       "      <th>original_title</th>\n",
       "      <th>runtime</th>\n",
       "      <th>genres</th>\n",
       "      <th>vote_count</th>\n",
       "      <th>vote_average</th>\n",
       "      <th>release_year</th>\n",
       "    </tr>\n",
       "  </thead>\n",
       "  <tbody>\n",
       "    <tr>\n",
       "      <th>0</th>\n",
       "      <td>32.985763</td>\n",
       "      <td>150000000</td>\n",
       "      <td>1513528810</td>\n",
       "      <td>Jurassic World</td>\n",
       "      <td>124</td>\n",
       "      <td>Action</td>\n",
       "      <td>5562</td>\n",
       "      <td>6.5</td>\n",
       "      <td>2015</td>\n",
       "    </tr>\n",
       "    <tr>\n",
       "      <th>0</th>\n",
       "      <td>32.985763</td>\n",
       "      <td>150000000</td>\n",
       "      <td>1513528810</td>\n",
       "      <td>Jurassic World</td>\n",
       "      <td>124</td>\n",
       "      <td>Adventure</td>\n",
       "      <td>5562</td>\n",
       "      <td>6.5</td>\n",
       "      <td>2015</td>\n",
       "    </tr>\n",
       "    <tr>\n",
       "      <th>0</th>\n",
       "      <td>32.985763</td>\n",
       "      <td>150000000</td>\n",
       "      <td>1513528810</td>\n",
       "      <td>Jurassic World</td>\n",
       "      <td>124</td>\n",
       "      <td>Science Fiction</td>\n",
       "      <td>5562</td>\n",
       "      <td>6.5</td>\n",
       "      <td>2015</td>\n",
       "    </tr>\n",
       "    <tr>\n",
       "      <th>0</th>\n",
       "      <td>32.985763</td>\n",
       "      <td>150000000</td>\n",
       "      <td>1513528810</td>\n",
       "      <td>Jurassic World</td>\n",
       "      <td>124</td>\n",
       "      <td>Thriller</td>\n",
       "      <td>5562</td>\n",
       "      <td>6.5</td>\n",
       "      <td>2015</td>\n",
       "    </tr>\n",
       "    <tr>\n",
       "      <th>1</th>\n",
       "      <td>28.419936</td>\n",
       "      <td>150000000</td>\n",
       "      <td>378436354</td>\n",
       "      <td>Mad Max: Fury Road</td>\n",
       "      <td>120</td>\n",
       "      <td>Action</td>\n",
       "      <td>6185</td>\n",
       "      <td>7.1</td>\n",
       "      <td>2015</td>\n",
       "    </tr>\n",
       "    <tr>\n",
       "      <th>1</th>\n",
       "      <td>28.419936</td>\n",
       "      <td>150000000</td>\n",
       "      <td>378436354</td>\n",
       "      <td>Mad Max: Fury Road</td>\n",
       "      <td>120</td>\n",
       "      <td>Adventure</td>\n",
       "      <td>6185</td>\n",
       "      <td>7.1</td>\n",
       "      <td>2015</td>\n",
       "    </tr>\n",
       "    <tr>\n",
       "      <th>1</th>\n",
       "      <td>28.419936</td>\n",
       "      <td>150000000</td>\n",
       "      <td>378436354</td>\n",
       "      <td>Mad Max: Fury Road</td>\n",
       "      <td>120</td>\n",
       "      <td>Science Fiction</td>\n",
       "      <td>6185</td>\n",
       "      <td>7.1</td>\n",
       "      <td>2015</td>\n",
       "    </tr>\n",
       "    <tr>\n",
       "      <th>1</th>\n",
       "      <td>28.419936</td>\n",
       "      <td>150000000</td>\n",
       "      <td>378436354</td>\n",
       "      <td>Mad Max: Fury Road</td>\n",
       "      <td>120</td>\n",
       "      <td>Thriller</td>\n",
       "      <td>6185</td>\n",
       "      <td>7.1</td>\n",
       "      <td>2015</td>\n",
       "    </tr>\n",
       "    <tr>\n",
       "      <th>2</th>\n",
       "      <td>13.112507</td>\n",
       "      <td>110000000</td>\n",
       "      <td>295238201</td>\n",
       "      <td>Insurgent</td>\n",
       "      <td>119</td>\n",
       "      <td>Adventure</td>\n",
       "      <td>2480</td>\n",
       "      <td>6.3</td>\n",
       "      <td>2015</td>\n",
       "    </tr>\n",
       "    <tr>\n",
       "      <th>2</th>\n",
       "      <td>13.112507</td>\n",
       "      <td>110000000</td>\n",
       "      <td>295238201</td>\n",
       "      <td>Insurgent</td>\n",
       "      <td>119</td>\n",
       "      <td>Science Fiction</td>\n",
       "      <td>2480</td>\n",
       "      <td>6.3</td>\n",
       "      <td>2015</td>\n",
       "    </tr>\n",
       "  </tbody>\n",
       "</table>\n",
       "</div>"
      ],
      "text/plain": [
       "   popularity     budget     revenue      original_title  runtime  \\\n",
       "0   32.985763  150000000  1513528810      Jurassic World      124   \n",
       "0   32.985763  150000000  1513528810      Jurassic World      124   \n",
       "0   32.985763  150000000  1513528810      Jurassic World      124   \n",
       "0   32.985763  150000000  1513528810      Jurassic World      124   \n",
       "1   28.419936  150000000   378436354  Mad Max: Fury Road      120   \n",
       "1   28.419936  150000000   378436354  Mad Max: Fury Road      120   \n",
       "1   28.419936  150000000   378436354  Mad Max: Fury Road      120   \n",
       "1   28.419936  150000000   378436354  Mad Max: Fury Road      120   \n",
       "2   13.112507  110000000   295238201           Insurgent      119   \n",
       "2   13.112507  110000000   295238201           Insurgent      119   \n",
       "\n",
       "            genres  vote_count  vote_average  release_year  \n",
       "0           Action        5562           6.5          2015  \n",
       "0        Adventure        5562           6.5          2015  \n",
       "0  Science Fiction        5562           6.5          2015  \n",
       "0         Thriller        5562           6.5          2015  \n",
       "1           Action        6185           7.1          2015  \n",
       "1        Adventure        6185           7.1          2015  \n",
       "1  Science Fiction        6185           7.1          2015  \n",
       "1         Thriller        6185           7.1          2015  \n",
       "2        Adventure        2480           6.3          2015  \n",
       "2  Science Fiction        2480           6.3          2015  "
      ]
     },
     "execution_count": 7,
     "metadata": {},
     "output_type": "execute_result"
    }
   ],
   "source": [
    "# split genres string, at |, explode the list to rows\n",
    "genres_df = df.assign(genres=df['genres'].str.split('|')).explode('genres')\n",
    "genres_df.head(10)"
   ]
  },
  {
   "cell_type": "markdown",
   "id": "155a8785-dc87-471a-9a30-0cf0455bea40",
   "metadata": {
    "tags": []
   },
   "source": [
    "<a id=\"eda\"></a>\n",
    "## Exploratory Data Analysis"
   ]
  },
  {
   "cell_type": "markdown",
   "id": "d2e73eaf-9f81-45b3-b286-d04299323cd9",
   "metadata": {
    "jp-MarkdownHeadingCollapsed": true,
    "tags": []
   },
   "source": [
    "<a id='one'></a>\n",
    "# what is the most frequently used genres?"
   ]
  },
  {
   "cell_type": "code",
   "execution_count": 8,
   "id": "548f4546-6f51-44f7-a32a-f90ac9a224a3",
   "metadata": {},
   "outputs": [
    {
     "data": {
      "text/plain": [
       "Drama              4761\n",
       "Comedy             3793\n",
       "Thriller           2908\n",
       "Action             2385\n",
       "Romance            1712\n",
       "Horror             1637\n",
       "Adventure          1471\n",
       "Crime              1355\n",
       "Family             1231\n",
       "Science Fiction    1230\n",
       "Fantasy             916\n",
       "Mystery             810\n",
       "Animation           699\n",
       "Documentary         520\n",
       "Music               408\n",
       "History             334\n",
       "War                 270\n",
       "Foreign             188\n",
       "TV Movie            167\n",
       "Western             165\n",
       "Name: genres, dtype: int64"
      ]
     },
     "execution_count": 8,
     "metadata": {},
     "output_type": "execute_result"
    }
   ],
   "source": [
    "# getting the value-count for each genre\n",
    "gen_val = genres_df.genres.value_counts()\n",
    "gen_val"
   ]
  },
  {
   "cell_type": "code",
   "execution_count": 9,
   "id": "afa346fa-453f-4ba2-b784-ca74859e00bf",
   "metadata": {},
   "outputs": [
    {
     "data": {
      "image/png": "[encoded data removed]",
      "text/plain": [
       "<Figure size 1584x504 with 1 Axes>"
      ]
     },
     "metadata": {
      "needs_background": "light"
     },
     "output_type": "display_data"
    }
   ],
   "source": [
    "# bar chart between the amount of movies and genre\n",
    "\n",
    "plt.subplots(figsize=(22,7))\n",
    "\n",
    "plt.bar(gen_val.index,gen_val)\n",
    "plt.xlabel(\"Genre\")\n",
    "plt.ylabel(\"Count\")\n",
    "plt.title(\"Most Frequently Used Genres\")\n",
    "plt.show();"
   ]
  },
  {
   "cell_type": "markdown",
   "id": "eef7ca5e-88f2-418c-bc4f-795411508519",
   "metadata": {},
   "source": [
    "## conclusion : the most frequently used genres are (Drama, Comedy, Thriller and then Action)"
   ]
  },
  {
   "cell_type": "markdown",
   "id": "57303b3a-d720-4a7d-936e-593f69177383",
   "metadata": {
    "tags": []
   },
   "source": [
    "<a id='two'></a>\n",
    "# what genres that get highest revenue?"
   ]
  },
  {
   "cell_type": "code",
   "execution_count": 10,
   "id": "257caf04-fef4-43b0-b388-df299bd3ed68",
   "metadata": {},
   "outputs": [],
   "source": [
    "# getting the genres assosiated with revenue\n",
    "gen_rev = genres_df.groupby('genres').revenue.sum().sort_values()"
   ]
  },
  {
   "cell_type": "code",
   "execution_count": 11,
   "id": "2a2304e1-0d00-48d3-a5ee-f25b763a70ca",
   "metadata": {},
   "outputs": [
    {
     "data": {
      "image/png": "[encoded data removed]",
      "text/plain": [
       "<Figure size 1440x504 with 1 Axes>"
      ]
     },
     "metadata": {
      "needs_background": "light"
     },
     "output_type": "display_data"
    }
   ],
   "source": [
    "# bar chart between genres and genre-revenue\n",
    "\n",
    "plt.subplots(figsize=(20,7))\n",
    "\n",
    "plt.bar(gen_rev.index,gen_rev)\n",
    "plt.xlabel(\"Genre\")\n",
    "plt.ylabel(\"Times Of Using Genre In High Revenue\")\n",
    "plt.title(\"Genres That Get Highest Revenue\")\n",
    "plt.show();"
   ]
  },
  {
   "cell_type": "markdown",
   "id": "32ac0818-cf3b-4442-96d1-89f2fa8ac0e7",
   "metadata": {},
   "source": [
    "### conclusion : genres that get highest revenue are (Action, Adventure, Comedy and then Drama)"
   ]
  },
  {
   "cell_type": "markdown",
   "id": "f524caaa-ee10-4642-a6f2-bd511a22d8b4",
   "metadata": {
    "tags": []
   },
   "source": [
    "<a id='three'></a>\n",
    "# what is the rate of movies production since 1966 to 2015?"
   ]
  },
  {
   "cell_type": "code",
   "execution_count": 12,
   "id": "d6efa1d0-33bf-459a-abbf-be30a1505814",
   "metadata": {
    "tags": []
   },
   "outputs": [],
   "source": [
    "# getting the amount of movies per year through getting how many times has each year presented in the dataframe\n",
    "movies_amount = df['release_year'].value_counts().sort_index()"
   ]
  },
  {
   "cell_type": "code",
   "execution_count": 13,
   "id": "a12feb4d-d089-47e3-9950-6eda60ac58eb",
   "metadata": {},
   "outputs": [
    {
     "data": {
      "image/png": "[encoded data removed]",
      "text/plain": [
       "<Figure size 1440x504 with 1 Axes>"
      ]
     },
     "metadata": {
      "needs_background": "light"
     },
     "output_type": "display_data"
    }
   ],
   "source": [
    "# plot between amount of movies and years\n",
    "\n",
    "plt.subplots(figsize=(20,7))\n",
    "\n",
    "plt.plot(movies_amount.index,movies_amount)\n",
    "plt.xlabel('Year')\n",
    "plt.ylabel('Number Of Movies')\n",
    "plt.title('Rate of Movies Production Since 1966 To 2015')\n",
    "plt.show();"
   ]
  },
  {
   "cell_type": "markdown",
   "id": "c34b95f9-6668-4067-83ef-6ed0f58b33c3",
   "metadata": {},
   "source": [
    "### conclusion : the rate is severely increased especially since 2000"
   ]
  },
  {
   "cell_type": "markdown",
   "id": "fc9c4e3a-9169-4b47-94f0-3e99afc5d50d",
   "metadata": {
    "tags": []
   },
   "source": [
    "<a id='four'></a>\n",
    "# what is the average budget to produce a movie?"
   ]
  },
  {
   "cell_type": "markdown",
   "id": "4df46ca1-aee5-4943-b4e2-eaf14eaca6df",
   "metadata": {},
   "source": [
    "### since there are alot of wierd values like (1, 3, 12) , we need to filter the data and get only the reasonable budgets, so maybe we can start from 1000$"
   ]
  },
  {
   "cell_type": "code",
   "execution_count": 14,
   "id": "695d5002-bd42-411d-b64a-c1d64150632a",
   "metadata": {},
   "outputs": [
    {
     "data": {
      "text/html": [
       "<div>\n",
       "<style scoped>\n",
       "    .dataframe tbody tr th:only-of-type {\n",
       "        vertical-align: middle;\n",
       "    }\n",
       "\n",
       "    .dataframe tbody tr th {\n",
       "        vertical-align: top;\n",
       "    }\n",
       "\n",
       "    .dataframe thead th {\n",
       "        text-align: right;\n",
       "    }\n",
       "</style>\n",
       "<table border=\"1\" class=\"dataframe\">\n",
       "  <thead>\n",
       "    <tr style=\"text-align: right;\">\n",
       "      <th></th>\n",
       "      <th>popularity</th>\n",
       "      <th>budget</th>\n",
       "      <th>revenue</th>\n",
       "      <th>original_title</th>\n",
       "      <th>runtime</th>\n",
       "      <th>genres</th>\n",
       "      <th>vote_count</th>\n",
       "      <th>vote_average</th>\n",
       "      <th>release_year</th>\n",
       "    </tr>\n",
       "  </thead>\n",
       "  <tbody>\n",
       "    <tr>\n",
       "      <th>0</th>\n",
       "      <td>32.985763</td>\n",
       "      <td>150000000</td>\n",
       "      <td>1513528810</td>\n",
       "      <td>Jurassic World</td>\n",
       "      <td>124</td>\n",
       "      <td>Action|Adventure|Science Fiction|Thriller</td>\n",
       "      <td>5562</td>\n",
       "      <td>6.5</td>\n",
       "      <td>2015</td>\n",
       "    </tr>\n",
       "    <tr>\n",
       "      <th>1</th>\n",
       "      <td>28.419936</td>\n",
       "      <td>150000000</td>\n",
       "      <td>378436354</td>\n",
       "      <td>Mad Max: Fury Road</td>\n",
       "      <td>120</td>\n",
       "      <td>Action|Adventure|Science Fiction|Thriller</td>\n",
       "      <td>6185</td>\n",
       "      <td>7.1</td>\n",
       "      <td>2015</td>\n",
       "    </tr>\n",
       "    <tr>\n",
       "      <th>2</th>\n",
       "      <td>13.112507</td>\n",
       "      <td>110000000</td>\n",
       "      <td>295238201</td>\n",
       "      <td>Insurgent</td>\n",
       "      <td>119</td>\n",
       "      <td>Adventure|Science Fiction|Thriller</td>\n",
       "      <td>2480</td>\n",
       "      <td>6.3</td>\n",
       "      <td>2015</td>\n",
       "    </tr>\n",
       "    <tr>\n",
       "      <th>3</th>\n",
       "      <td>11.173104</td>\n",
       "      <td>200000000</td>\n",
       "      <td>2068178225</td>\n",
       "      <td>Star Wars: The Force Awakens</td>\n",
       "      <td>136</td>\n",
       "      <td>Action|Adventure|Science Fiction|Fantasy</td>\n",
       "      <td>5292</td>\n",
       "      <td>7.5</td>\n",
       "      <td>2015</td>\n",
       "    </tr>\n",
       "    <tr>\n",
       "      <th>4</th>\n",
       "      <td>9.335014</td>\n",
       "      <td>190000000</td>\n",
       "      <td>1506249360</td>\n",
       "      <td>Furious 7</td>\n",
       "      <td>137</td>\n",
       "      <td>Action|Crime|Thriller</td>\n",
       "      <td>2947</td>\n",
       "      <td>7.3</td>\n",
       "      <td>2015</td>\n",
       "    </tr>\n",
       "    <tr>\n",
       "      <th>...</th>\n",
       "      <td>...</td>\n",
       "      <td>...</td>\n",
       "      <td>...</td>\n",
       "      <td>...</td>\n",
       "      <td>...</td>\n",
       "      <td>...</td>\n",
       "      <td>...</td>\n",
       "      <td>...</td>\n",
       "      <td>...</td>\n",
       "    </tr>\n",
       "    <tr>\n",
       "      <th>10835</th>\n",
       "      <td>0.299911</td>\n",
       "      <td>12000000</td>\n",
       "      <td>20000000</td>\n",
       "      <td>The Sand Pebbles</td>\n",
       "      <td>182</td>\n",
       "      <td>Action|Adventure|Drama|War|Romance</td>\n",
       "      <td>28</td>\n",
       "      <td>7.0</td>\n",
       "      <td>1966</td>\n",
       "    </tr>\n",
       "    <tr>\n",
       "      <th>10841</th>\n",
       "      <td>0.264925</td>\n",
       "      <td>75000</td>\n",
       "      <td>0</td>\n",
       "      <td>The Shooting</td>\n",
       "      <td>82</td>\n",
       "      <td>Western</td>\n",
       "      <td>12</td>\n",
       "      <td>5.5</td>\n",
       "      <td>1966</td>\n",
       "    </tr>\n",
       "    <tr>\n",
       "      <th>10848</th>\n",
       "      <td>0.207257</td>\n",
       "      <td>5115000</td>\n",
       "      <td>12000000</td>\n",
       "      <td>Fantastic Voyage</td>\n",
       "      <td>100</td>\n",
       "      <td>Adventure|Science Fiction</td>\n",
       "      <td>42</td>\n",
       "      <td>6.7</td>\n",
       "      <td>1966</td>\n",
       "    </tr>\n",
       "    <tr>\n",
       "      <th>10855</th>\n",
       "      <td>0.141026</td>\n",
       "      <td>700000</td>\n",
       "      <td>0</td>\n",
       "      <td>The Ghost &amp; Mr. Chicken</td>\n",
       "      <td>90</td>\n",
       "      <td>Comedy|Family|Mystery|Romance</td>\n",
       "      <td>14</td>\n",
       "      <td>6.1</td>\n",
       "      <td>1966</td>\n",
       "    </tr>\n",
       "    <tr>\n",
       "      <th>10865</th>\n",
       "      <td>0.035919</td>\n",
       "      <td>19000</td>\n",
       "      <td>0</td>\n",
       "      <td>Manos: The Hands of Fate</td>\n",
       "      <td>74</td>\n",
       "      <td>Horror</td>\n",
       "      <td>15</td>\n",
       "      <td>1.5</td>\n",
       "      <td>1966</td>\n",
       "    </tr>\n",
       "  </tbody>\n",
       "</table>\n",
       "<p>5111 rows × 9 columns</p>\n",
       "</div>"
      ],
      "text/plain": [
       "       popularity     budget     revenue                original_title  \\\n",
       "0       32.985763  150000000  1513528810                Jurassic World   \n",
       "1       28.419936  150000000   378436354            Mad Max: Fury Road   \n",
       "2       13.112507  110000000   295238201                     Insurgent   \n",
       "3       11.173104  200000000  2068178225  Star Wars: The Force Awakens   \n",
       "4        9.335014  190000000  1506249360                     Furious 7   \n",
       "...           ...        ...         ...                           ...   \n",
       "10835    0.299911   12000000    20000000              The Sand Pebbles   \n",
       "10841    0.264925      75000           0                  The Shooting   \n",
       "10848    0.207257    5115000    12000000              Fantastic Voyage   \n",
       "10855    0.141026     700000           0       The Ghost & Mr. Chicken   \n",
       "10865    0.035919      19000           0      Manos: The Hands of Fate   \n",
       "\n",
       "       runtime                                     genres  vote_count  \\\n",
       "0          124  Action|Adventure|Science Fiction|Thriller        5562   \n",
       "1          120  Action|Adventure|Science Fiction|Thriller        6185   \n",
       "2          119         Adventure|Science Fiction|Thriller        2480   \n",
       "3          136   Action|Adventure|Science Fiction|Fantasy        5292   \n",
       "4          137                      Action|Crime|Thriller        2947   \n",
       "...        ...                                        ...         ...   \n",
       "10835      182         Action|Adventure|Drama|War|Romance          28   \n",
       "10841       82                                    Western          12   \n",
       "10848      100                  Adventure|Science Fiction          42   \n",
       "10855       90              Comedy|Family|Mystery|Romance          14   \n",
       "10865       74                                     Horror          15   \n",
       "\n",
       "       vote_average  release_year  \n",
       "0               6.5          2015  \n",
       "1               7.1          2015  \n",
       "2               6.3          2015  \n",
       "3               7.5          2015  \n",
       "4               7.3          2015  \n",
       "...             ...           ...  \n",
       "10835           7.0          1966  \n",
       "10841           5.5          1966  \n",
       "10848           6.7          1966  \n",
       "10855           6.1          1966  \n",
       "10865           1.5          1966  \n",
       "\n",
       "[5111 rows x 9 columns]"
      ]
     },
     "execution_count": 14,
     "metadata": {},
     "output_type": "execute_result"
    }
   ],
   "source": [
    "# filtering budget column in a new dataframe called 'res_budget' (reasonable budget)\n",
    "res_budget = df[df.budget > 1000]\n",
    "res_budget"
   ]
  },
  {
   "cell_type": "markdown",
   "id": "ceabae84-2d66-4d5d-922e-f9ff06b68ddb",
   "metadata": {},
   "source": [
    "### Now let's get the average budget to produce a movie for each year"
   ]
  },
  {
   "cell_type": "code",
   "execution_count": 15,
   "id": "3503e835-12ae-467d-8607-89cbba757e3e",
   "metadata": {},
   "outputs": [
    {
     "data": {
      "text/html": [
       "<div>\n",
       "<style scoped>\n",
       "    .dataframe tbody tr th:only-of-type {\n",
       "        vertical-align: middle;\n",
       "    }\n",
       "\n",
       "    .dataframe tbody tr th {\n",
       "        vertical-align: top;\n",
       "    }\n",
       "\n",
       "    .dataframe thead th {\n",
       "        text-align: right;\n",
       "    }\n",
       "</style>\n",
       "<table border=\"1\" class=\"dataframe\">\n",
       "  <thead>\n",
       "    <tr style=\"text-align: right;\">\n",
       "      <th></th>\n",
       "      <th>release_year</th>\n",
       "      <th>budget</th>\n",
       "    </tr>\n",
       "  </thead>\n",
       "  <tbody>\n",
       "    <tr>\n",
       "      <th>0</th>\n",
       "      <td>1960</td>\n",
       "      <td>2.450772e+06</td>\n",
       "    </tr>\n",
       "    <tr>\n",
       "      <th>1</th>\n",
       "      <td>1961</td>\n",
       "      <td>3.549000e+06</td>\n",
       "    </tr>\n",
       "    <tr>\n",
       "      <th>2</th>\n",
       "      <td>1962</td>\n",
       "      <td>4.209385e+06</td>\n",
       "    </tr>\n",
       "    <tr>\n",
       "      <th>3</th>\n",
       "      <td>1963</td>\n",
       "      <td>6.666500e+06</td>\n",
       "    </tr>\n",
       "    <tr>\n",
       "      <th>4</th>\n",
       "      <td>1964</td>\n",
       "      <td>3.589378e+06</td>\n",
       "    </tr>\n",
       "    <tr>\n",
       "      <th>5</th>\n",
       "      <td>1965</td>\n",
       "      <td>7.020500e+06</td>\n",
       "    </tr>\n",
       "    <tr>\n",
       "      <th>6</th>\n",
       "      <td>1966</td>\n",
       "      <td>4.796233e+06</td>\n",
       "    </tr>\n",
       "    <tr>\n",
       "      <th>7</th>\n",
       "      <td>1967</td>\n",
       "      <td>5.920706e+06</td>\n",
       "    </tr>\n",
       "    <tr>\n",
       "      <th>8</th>\n",
       "      <td>1968</td>\n",
       "      <td>4.795933e+06</td>\n",
       "    </tr>\n",
       "    <tr>\n",
       "      <th>9</th>\n",
       "      <td>1969</td>\n",
       "      <td>4.212909e+06</td>\n",
       "    </tr>\n",
       "    <tr>\n",
       "      <th>10</th>\n",
       "      <td>1970</td>\n",
       "      <td>8.464463e+06</td>\n",
       "    </tr>\n",
       "    <tr>\n",
       "      <th>11</th>\n",
       "      <td>1971</td>\n",
       "      <td>3.304217e+06</td>\n",
       "    </tr>\n",
       "    <tr>\n",
       "      <th>12</th>\n",
       "      <td>1972</td>\n",
       "      <td>2.134074e+06</td>\n",
       "    </tr>\n",
       "    <tr>\n",
       "      <th>13</th>\n",
       "      <td>1973</td>\n",
       "      <td>3.621710e+06</td>\n",
       "    </tr>\n",
       "    <tr>\n",
       "      <th>14</th>\n",
       "      <td>1974</td>\n",
       "      <td>3.665238e+06</td>\n",
       "    </tr>\n",
       "    <tr>\n",
       "      <th>15</th>\n",
       "      <td>1975</td>\n",
       "      <td>4.019929e+06</td>\n",
       "    </tr>\n",
       "    <tr>\n",
       "      <th>16</th>\n",
       "      <td>1976</td>\n",
       "      <td>7.185294e+06</td>\n",
       "    </tr>\n",
       "    <tr>\n",
       "      <th>17</th>\n",
       "      <td>1977</td>\n",
       "      <td>5.984444e+06</td>\n",
       "    </tr>\n",
       "    <tr>\n",
       "      <th>18</th>\n",
       "      <td>1978</td>\n",
       "      <td>8.038346e+06</td>\n",
       "    </tr>\n",
       "    <tr>\n",
       "      <th>19</th>\n",
       "      <td>1979</td>\n",
       "      <td>1.061725e+07</td>\n",
       "    </tr>\n",
       "    <tr>\n",
       "      <th>20</th>\n",
       "      <td>1980</td>\n",
       "      <td>1.169355e+07</td>\n",
       "    </tr>\n",
       "    <tr>\n",
       "      <th>21</th>\n",
       "      <td>1981</td>\n",
       "      <td>8.898995e+06</td>\n",
       "    </tr>\n",
       "    <tr>\n",
       "      <th>22</th>\n",
       "      <td>1982</td>\n",
       "      <td>1.287632e+07</td>\n",
       "    </tr>\n",
       "    <tr>\n",
       "      <th>23</th>\n",
       "      <td>1983</td>\n",
       "      <td>1.331045e+07</td>\n",
       "    </tr>\n",
       "    <tr>\n",
       "      <th>24</th>\n",
       "      <td>1984</td>\n",
       "      <td>1.350393e+07</td>\n",
       "    </tr>\n",
       "    <tr>\n",
       "      <th>25</th>\n",
       "      <td>1985</td>\n",
       "      <td>1.386519e+07</td>\n",
       "    </tr>\n",
       "    <tr>\n",
       "      <th>26</th>\n",
       "      <td>1986</td>\n",
       "      <td>1.194125e+07</td>\n",
       "    </tr>\n",
       "    <tr>\n",
       "      <th>27</th>\n",
       "      <td>1987</td>\n",
       "      <td>1.289919e+07</td>\n",
       "    </tr>\n",
       "    <tr>\n",
       "      <th>28</th>\n",
       "      <td>1988</td>\n",
       "      <td>1.381116e+07</td>\n",
       "    </tr>\n",
       "    <tr>\n",
       "      <th>29</th>\n",
       "      <td>1989</td>\n",
       "      <td>1.635843e+07</td>\n",
       "    </tr>\n",
       "    <tr>\n",
       "      <th>30</th>\n",
       "      <td>1990</td>\n",
       "      <td>2.186309e+07</td>\n",
       "    </tr>\n",
       "    <tr>\n",
       "      <th>31</th>\n",
       "      <td>1991</td>\n",
       "      <td>2.403661e+07</td>\n",
       "    </tr>\n",
       "    <tr>\n",
       "      <th>32</th>\n",
       "      <td>1992</td>\n",
       "      <td>2.218101e+07</td>\n",
       "    </tr>\n",
       "    <tr>\n",
       "      <th>33</th>\n",
       "      <td>1993</td>\n",
       "      <td>2.118605e+07</td>\n",
       "    </tr>\n",
       "    <tr>\n",
       "      <th>34</th>\n",
       "      <td>1994</td>\n",
       "      <td>2.653818e+07</td>\n",
       "    </tr>\n",
       "    <tr>\n",
       "      <th>35</th>\n",
       "      <td>1995</td>\n",
       "      <td>3.115092e+07</td>\n",
       "    </tr>\n",
       "    <tr>\n",
       "      <th>36</th>\n",
       "      <td>1996</td>\n",
       "      <td>3.098355e+07</td>\n",
       "    </tr>\n",
       "    <tr>\n",
       "      <th>37</th>\n",
       "      <td>1997</td>\n",
       "      <td>4.095764e+07</td>\n",
       "    </tr>\n",
       "    <tr>\n",
       "      <th>38</th>\n",
       "      <td>1998</td>\n",
       "      <td>4.090600e+07</td>\n",
       "    </tr>\n",
       "    <tr>\n",
       "      <th>39</th>\n",
       "      <td>1999</td>\n",
       "      <td>3.948791e+07</td>\n",
       "    </tr>\n",
       "    <tr>\n",
       "      <th>40</th>\n",
       "      <td>2000</td>\n",
       "      <td>3.994931e+07</td>\n",
       "    </tr>\n",
       "    <tr>\n",
       "      <th>41</th>\n",
       "      <td>2001</td>\n",
       "      <td>3.945415e+07</td>\n",
       "    </tr>\n",
       "    <tr>\n",
       "      <th>42</th>\n",
       "      <td>2002</td>\n",
       "      <td>3.594293e+07</td>\n",
       "    </tr>\n",
       "    <tr>\n",
       "      <th>43</th>\n",
       "      <td>2003</td>\n",
       "      <td>4.132356e+07</td>\n",
       "    </tr>\n",
       "    <tr>\n",
       "      <th>44</th>\n",
       "      <td>2004</td>\n",
       "      <td>3.961514e+07</td>\n",
       "    </tr>\n",
       "    <tr>\n",
       "      <th>45</th>\n",
       "      <td>2005</td>\n",
       "      <td>3.564701e+07</td>\n",
       "    </tr>\n",
       "    <tr>\n",
       "      <th>46</th>\n",
       "      <td>2006</td>\n",
       "      <td>3.462647e+07</td>\n",
       "    </tr>\n",
       "    <tr>\n",
       "      <th>47</th>\n",
       "      <td>2007</td>\n",
       "      <td>3.455008e+07</td>\n",
       "    </tr>\n",
       "    <tr>\n",
       "      <th>48</th>\n",
       "      <td>2008</td>\n",
       "      <td>3.339598e+07</td>\n",
       "    </tr>\n",
       "    <tr>\n",
       "      <th>49</th>\n",
       "      <td>2009</td>\n",
       "      <td>3.465356e+07</td>\n",
       "    </tr>\n",
       "    <tr>\n",
       "      <th>50</th>\n",
       "      <td>2010</td>\n",
       "      <td>3.926779e+07</td>\n",
       "    </tr>\n",
       "    <tr>\n",
       "      <th>51</th>\n",
       "      <td>2011</td>\n",
       "      <td>3.303353e+07</td>\n",
       "    </tr>\n",
       "    <tr>\n",
       "      <th>52</th>\n",
       "      <td>2012</td>\n",
       "      <td>3.551109e+07</td>\n",
       "    </tr>\n",
       "    <tr>\n",
       "      <th>53</th>\n",
       "      <td>2013</td>\n",
       "      <td>3.498499e+07</td>\n",
       "    </tr>\n",
       "    <tr>\n",
       "      <th>54</th>\n",
       "      <td>2014</td>\n",
       "      <td>3.430299e+07</td>\n",
       "    </tr>\n",
       "    <tr>\n",
       "      <th>55</th>\n",
       "      <td>2015</td>\n",
       "      <td>3.634712e+07</td>\n",
       "    </tr>\n",
       "  </tbody>\n",
       "</table>\n",
       "</div>"
      ],
      "text/plain": [
       "    release_year        budget\n",
       "0           1960  2.450772e+06\n",
       "1           1961  3.549000e+06\n",
       "2           1962  4.209385e+06\n",
       "3           1963  6.666500e+06\n",
       "4           1964  3.589378e+06\n",
       "5           1965  7.020500e+06\n",
       "6           1966  4.796233e+06\n",
       "7           1967  5.920706e+06\n",
       "8           1968  4.795933e+06\n",
       "9           1969  4.212909e+06\n",
       "10          1970  8.464463e+06\n",
       "11          1971  3.304217e+06\n",
       "12          1972  2.134074e+06\n",
       "13          1973  3.621710e+06\n",
       "14          1974  3.665238e+06\n",
       "15          1975  4.019929e+06\n",
       "16          1976  7.185294e+06\n",
       "17          1977  5.984444e+06\n",
       "18          1978  8.038346e+06\n",
       "19          1979  1.061725e+07\n",
       "20          1980  1.169355e+07\n",
       "21          1981  8.898995e+06\n",
       "22          1982  1.287632e+07\n",
       "23          1983  1.331045e+07\n",
       "24          1984  1.350393e+07\n",
       "25          1985  1.386519e+07\n",
       "26          1986  1.194125e+07\n",
       "27          1987  1.289919e+07\n",
       "28          1988  1.381116e+07\n",
       "29          1989  1.635843e+07\n",
       "30          1990  2.186309e+07\n",
       "31          1991  2.403661e+07\n",
       "32          1992  2.218101e+07\n",
       "33          1993  2.118605e+07\n",
       "34          1994  2.653818e+07\n",
       "35          1995  3.115092e+07\n",
       "36          1996  3.098355e+07\n",
       "37          1997  4.095764e+07\n",
       "38          1998  4.090600e+07\n",
       "39          1999  3.948791e+07\n",
       "40          2000  3.994931e+07\n",
       "41          2001  3.945415e+07\n",
       "42          2002  3.594293e+07\n",
       "43          2003  4.132356e+07\n",
       "44          2004  3.961514e+07\n",
       "45          2005  3.564701e+07\n",
       "46          2006  3.462647e+07\n",
       "47          2007  3.455008e+07\n",
       "48          2008  3.339598e+07\n",
       "49          2009  3.465356e+07\n",
       "50          2010  3.926779e+07\n",
       "51          2011  3.303353e+07\n",
       "52          2012  3.551109e+07\n",
       "53          2013  3.498499e+07\n",
       "54          2014  3.430299e+07\n",
       "55          2015  3.634712e+07"
      ]
     },
     "execution_count": 15,
     "metadata": {},
     "output_type": "execute_result"
    }
   ],
   "source": [
    "# getting the mean of budgets assosiated with release-year\n",
    "year_budget = res_budget.groupby('release_year', as_index=False).budget.mean()\n",
    "year_budget"
   ]
  },
  {
   "cell_type": "markdown",
   "id": "8f310d3d-b695-4ece-b61f-377a316298bf",
   "metadata": {},
   "source": [
    "### *since there is a big difference, we will take the average of the last five years*"
   ]
  },
  {
   "cell_type": "code",
   "execution_count": 16,
   "id": "3f8885c8-a74d-4013-ab19-c2ea32d29848",
   "metadata": {},
   "outputs": [
    {
     "data": {
      "text/plain": [
       "34835941.84416868"
      ]
     },
     "execution_count": 16,
     "metadata": {},
     "output_type": "execute_result"
    }
   ],
   "source": [
    "# average budget for last 5 years\n",
    "year_budget.budget[-5:].mean()"
   ]
  },
  {
   "cell_type": "code",
   "execution_count": 17,
   "id": "8b32c263-455f-4e53-93a6-e2b9e4e7a249",
   "metadata": {},
   "outputs": [
    {
     "data": {
      "image/png": "[encoded data removed]",
      "text/plain": [
       "<Figure size 1440x504 with 1 Axes>"
      ]
     },
     "metadata": {
      "needs_background": "light"
     },
     "output_type": "display_data"
    }
   ],
   "source": [
    "# bar chart between years and average budget\n",
    "\n",
    "plt.subplots(figsize=(20,7))\n",
    "\n",
    "plt.barh(year_budget.release_year,year_budget.budget, color='g')\n",
    "plt.xlabel(\"Budget\")\n",
    "plt.ylabel(\"Release Year\")\n",
    "plt.title(\"Average Budget To Produce A Movie For Each Year\")\n",
    "plt.show();"
   ]
  },
  {
   "cell_type": "markdown",
   "id": "95d14924-14e8-4cdb-a8e4-d3d97622aa20",
   "metadata": {},
   "source": [
    "### conclusion : the average budget to make a movie for last five years is about 34 835 941.85 $"
   ]
  },
  {
   "cell_type": "markdown",
   "id": "0e794bf4-3b86-4913-9958-7e12e7907c42",
   "metadata": {
    "tags": []
   },
   "source": [
    "<a id='five'></a>\n",
    "# what is the most preferable movie duration? \n",
    "### (according to votes and popularity)"
   ]
  },
  {
   "cell_type": "markdown",
   "id": "a50215ad-fa47-499c-b9c5-7b9438360d41",
   "metadata": {},
   "source": [
    "## *we will make three scatter plots* ( runtime with[ vote-count,  vote_average,  popularity] )"
   ]
  },
  {
   "cell_type": "markdown",
   "id": "8cbb0b5a-0b65-4816-a3d6-c5d44cac3918",
   "metadata": {},
   "source": [
    "### *since we have to make three scatter plots, we can make a function for that to make it faster*"
   ]
  },
  {
   "cell_type": "code",
   "execution_count": 18,
   "id": "8f12cac3-745b-48a1-84b7-529cb8cc4d1a",
   "metadata": {},
   "outputs": [],
   "source": [
    "def myscatters(df, xVar, yVar, color='red', alpha=0.4):\n",
    "    '''\n",
    "    this function makes scatter plots with specific two variabels\n",
    "    inputs: dataframe, first variable, second variable\n",
    "    outputs: scater plot between first variable and second variable\n",
    "    '''\n",
    "    \n",
    "    # plot\n",
    "    df.plot(x= xVar, y= yVar,\n",
    "            kind= 'scatter',\n",
    "            color= color,\n",
    "            alpha= alpha,\n",
    "            figsize= [20, 7]);\n",
    "    \n",
    "    # title\n",
    "    plt.title(f'relation ship between {yVar} and {xVar}'.title(), \n",
    "             fontsize= 14, weight=\"bold\")\n",
    "    \n",
    "    # x label\n",
    "    plt.xlabel(xVar.title(), \n",
    "              fontsize= 10, weight= \"bold\")\n",
    "    \n",
    "    # y label\n",
    "    plt.ylabel(yVar.title(), \n",
    "              fontsize= 10, weight= \"bold\")"
   ]
  },
  {
   "cell_type": "code",
   "execution_count": 19,
   "id": "e8a1ff14-95bb-40d4-891b-f9e726c9134c",
   "metadata": {},
   "outputs": [
    {
     "data": {
      "image/png": "[encoded data removed]",
      "text/plain": [
       "<Figure size 1440x504 with 1 Axes>"
      ]
     },
     "metadata": {
      "needs_background": "light"
     },
     "output_type": "display_data"
    }
   ],
   "source": [
    "# scatter between runtime and vote-count\n",
    "myscatters(df, \"runtime\", \"vote_count\")"
   ]
  },
  {
   "cell_type": "code",
   "execution_count": 20,
   "id": "dd96b9bd-c316-4695-b612-054cf4f88b70",
   "metadata": {},
   "outputs": [
    {
     "data": {
      "image/png": "[encoded data removed]",
      "text/plain": [
       "<Figure size 1440x504 with 1 Axes>"
      ]
     },
     "metadata": {
      "needs_background": "light"
     },
     "output_type": "display_data"
    }
   ],
   "source": [
    "# scatter between runtime and vote-average\n",
    "myscatters(df,'runtime', 'vote_average')"
   ]
  },
  {
   "cell_type": "code",
   "execution_count": 21,
   "id": "02f74b9d-0314-48cf-a3f2-e917514b27c2",
   "metadata": {},
   "outputs": [
    {
     "data": {
      "image/png": "[encoded data removed]",
      "text/plain": [
       "<Figure size 1440x504 with 1 Axes>"
      ]
     },
     "metadata": {
      "needs_background": "light"
     },
     "output_type": "display_data"
    }
   ],
   "source": [
    "# scatter between runtime and popularity\n",
    "myscatters(df, 'runtime', 'popularity')"
   ]
  },
  {
   "cell_type": "markdown",
   "id": "76c47058-ee70-4206-88cf-e58e8a948810",
   "metadata": {},
   "source": [
    "### conclusion : according to the data, the most preferable duration seems to be between 100 & 180 minutes"
   ]
  },
  {
   "cell_type": "markdown",
   "id": "6b336fd8-e8a2-48e8-a557-548889b58d78",
   "metadata": {
    "tags": []
   },
   "source": [
    "<a id='six'></a>\n",
    "# Are genres with highest revenue have highest popularity ?"
   ]
  },
  {
   "cell_type": "markdown",
   "id": "a1a296c4-ac97-4e20-84d3-dd9c8fb2da46",
   "metadata": {},
   "source": [
    "### *first we are going to look at the popularity on average*"
   ]
  },
  {
   "cell_type": "code",
   "execution_count": 22,
   "id": "5f773a54-241e-42a8-9360-3b38beacd2f7",
   "metadata": {},
   "outputs": [
    {
     "data": {
      "text/plain": [
       "count    20.000000\n",
       "mean      0.657829\n",
       "std       0.262367\n",
       "min       0.181432\n",
       "25%       0.553782\n",
       "50%       0.641310\n",
       "75%       0.803047\n",
       "max       1.154259\n",
       "Name: popularity, dtype: float64"
      ]
     },
     "execution_count": 22,
     "metadata": {},
     "output_type": "execute_result"
    }
   ],
   "source": [
    "# popularity rates on average\n",
    "ave_pop = genres_df.groupby('genres').popularity.mean().describe()\n",
    "ave_pop"
   ]
  },
  {
   "cell_type": "markdown",
   "id": "7ed88ab9-23fb-4ab6-a678-0d531199f886",
   "metadata": {},
   "source": [
    "### *then we are going to look at popularity for genres with high revenue*"
   ]
  },
  {
   "cell_type": "code",
   "execution_count": 23,
   "id": "e03e6aee-04c2-4876-b9bf-9118fa89d6d8",
   "metadata": {},
   "outputs": [],
   "source": [
    "# getting the highest revenue genres\n",
    "high_rev_gen = genres_df.query('genres == [\"Action\", \"Adventure\", \"Comedy\", \"Drama\", \"Thriller\"] ')"
   ]
  },
  {
   "cell_type": "code",
   "execution_count": 24,
   "id": "64e8a1fd-abdf-4790-bb87-32ba1719cfed",
   "metadata": {},
   "outputs": [
    {
     "data": {
      "text/plain": [
       "count    5.000000\n",
       "mean     0.801202\n",
       "std      0.240473\n",
       "min      0.591496\n",
       "25%      0.592607\n",
       "50%      0.741513\n",
       "75%      0.926136\n",
       "max      1.154259\n",
       "Name: popularity, dtype: float64"
      ]
     },
     "execution_count": 24,
     "metadata": {},
     "output_type": "execute_result"
    }
   ],
   "source": [
    "# popularity rates for high revenue movies\n",
    "high_rev_pop = high_rev_gen.groupby('genres').popularity.mean().describe()\n",
    "high_rev_pop"
   ]
  },
  {
   "cell_type": "markdown",
   "id": "41d6fbb7-382a-42ed-94cb-17404f4e8572",
   "metadata": {},
   "source": [
    "### *now let's see the difference between them*"
   ]
  },
  {
   "cell_type": "code",
   "execution_count": 25,
   "id": "70d78003-3c9b-47de-bdc6-3d73704a9809",
   "metadata": {},
   "outputs": [
    {
     "data": {
      "text/plain": [
       "count   -15.000000\n",
       "mean      0.143374\n",
       "std      -0.021894\n",
       "min       0.410065\n",
       "25%       0.038825\n",
       "50%       0.100203\n",
       "75%       0.123089\n",
       "max       0.000000\n",
       "Name: popularity, dtype: float64"
      ]
     },
     "execution_count": 25,
     "metadata": {},
     "output_type": "execute_result"
    }
   ],
   "source": [
    "high_rev_pop - ave_pop"
   ]
  },
  {
   "cell_type": "markdown",
   "id": "82ce5cf1-ef3b-461d-9ea3-35d1648cb24f",
   "metadata": {},
   "source": [
    "### conclusion : according to the data the answer seems to be yes, genres with highest revenue have highest popularity"
   ]
  },
  {
   "cell_type": "markdown",
   "id": "1f348839-b1a7-4373-859d-79e7cbda5be5",
   "metadata": {
    "tags": []
   },
   "source": [
    "<a id='conclusions'></a>\n",
    "# **Conclusions**"
   ]
  },
  {
   "cell_type": "markdown",
   "id": "ce677c52-ca96-4142-bf87-a09126cd9f23",
   "metadata": {},
   "source": [
    "*the research is giving an answer to the quistions belew :*\n",
    "\n",
    "**what is the most frequently used genres ?**\n",
    "\n",
    ">the most frequently used genres are **(Drama, Comedy, Thriller and then Action)**"
   ]
  },
  {
   "cell_type": "markdown",
   "id": "8deece58-23a7-498d-8571-61fd79fbbdb8",
   "metadata": {},
   "source": [
    "**what genres that get highest revenue ?**\n",
    ">genres that get highest revenue are **(Action, Adventure, Comedy and then Drama)**"
   ]
  },
  {
   "cell_type": "markdown",
   "id": "9d6085b4-cb25-4bcb-9a0f-7ca2afccd055",
   "metadata": {},
   "source": [
    "**what is the rate of movies production since 1966 to 2015 ?**\n",
    ">the rate is **severely increased** especially  since 2000"
   ]
  },
  {
   "cell_type": "markdown",
   "id": "c5e5bb66-5799-4118-9778-d8f0a23d627f",
   "metadata": {},
   "source": [
    "**what is the average budget to produce a movie ?**\n",
    "> the average budget to make a movie for last five years is about **34 835 941.85 $**"
   ]
  },
  {
   "cell_type": "markdown",
   "id": "ce6c9b9b-d565-4c26-9a92-a493de62255f",
   "metadata": {},
   "source": [
    "**what is the most preferable movie duration ?**\n",
    ">according to the data, the most preferable duration seems to be between **100 & 180 minutes**"
   ]
  },
  {
   "cell_type": "markdown",
   "id": "2dcc8ab4-7bf7-4492-8fdd-5179c30ff078",
   "metadata": {},
   "source": [
    "**Are genres with highest revenue have highest popularity ?**\n",
    ">according to the data the answer seems to be **yes**, genres with highest revenue have highest popularity"
   ]
  },
  {
   "cell_type": "markdown",
   "id": "37012160-2d81-4d4a-b3a7-89b076c5396f",
   "metadata": {
    "tags": []
   },
   "source": [
    "## *limitations:*"
   ]
  },
  {
   "cell_type": "markdown",
   "id": "2566ebce-4e30-416a-bd2d-4a201c42b7cf",
   "metadata": {},
   "source": [
    "#### there are alot of **missing data** in the budget column and revenue column which made it harder to specify the relations between them and the other variables\n",
    "\n",
    "#### genres that get highest revenue can be **not quite** because those genres are most frequently produced so it's expected to get highest total revenue per year"
   ]
  }
 ],
 "metadata": {
  "kernelspec": {
   "display_name": "Python 3 (ipykernel)",
   "language": "python",
   "name": "python3"
  },
  "language_info": {
   "codemirror_mode": {
    "name": "ipython",
    "version": 3
   },
   "file_extension": ".py",
   "mimetype": "text/x-python",
   "name": "python",
   "nbconvert_exporter": "python",
   "pygments_lexer": "ipython3",
   "version": "3.8.10"
  }
 },
 "nbformat": 4,
 "nbformat_minor": 5
}
